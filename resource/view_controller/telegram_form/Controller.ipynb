{
 "cells": [
  {
   "cell_type": "code",
   "execution_count": 1,
   "id": "fb0bc378",
   "metadata": {},
   "outputs": [],
   "source": [
    "# TODO: \n",
    "# - \n",
    "# - \n",
    "# - \n",
    "# - \n",
    "# - "
   ]
  },
  {
   "cell_type": "code",
   "execution_count": 2,
   "id": "a2c318ca",
   "metadata": {},
   "outputs": [],
   "source": [
    "import os\n",
    "import sys\n",
    "\n",
    "\n",
    "path_depth = \"../../../\"  # adjust the current working directory\n",
    "\n",
    "if \"__file__\" not in globals():  # check if running in Jupyter Notebook\n",
    "    os.system(\"jupyter nbconvert --to script Controller.ipynb --output Controller\")  # convert notebook to script\n",
    "    os.system(\"pyuic5 -x View.ui -o View.py\")  # convert UI file to Python script\n",
    "\n",
    "\n",
    "sys.path.append(os.path.abspath(os.path.join(path_depth, \"resource\", \"utility\")))\n",
    "\n",
    "if os.name == \"nt\":  # Windows NT: Windows New Technology\n",
    "    import ctypes\n",
    "\n",
    "    ctypes.windll.shell32.SetCurrentProcessExplicitAppUserModelID(\"my.app.id\")\n",
    "elif os.name == \"posix\":  # POSIX: Portable Operating System Interface\n",
    "    if \"darwin\" in os.sys.platform:\n",
    "        pass  # macOS system\n",
    "    else:\n",
    "        os.environ[\"DISPLAY\"] = \":0\"  # Set display\n",
    "        os.environ[\"QT_QPA_PLATFORM\"] = \"eglfs\"  # Set platform for Qt\n",
    "        # pass # Linux system\n",
    "else:\n",
    "    pass  # Other OS\n",
    "\n",
    "\n",
    "# os.environ[\"QT_ENABLE_HIGHDPI_SCALING\"] = \"0\"\n",
    "# os.environ[\"QT_AUTO_SCREEN_SCALE_FACTOR\"] = \"0\"\n",
    "# os.environ[\"QT_SCALE_FACTOR\"] = \"0\"\n",
    "# os.environ[\"NO_ALBUMENTATIONS_UPDATE\"] = \"0\""
   ]
  },
  {
   "cell_type": "code",
   "execution_count": 3,
   "id": "5d8bd0d0",
   "metadata": {},
   "outputs": [],
   "source": [
    "from View import Ui_MainWindow\n",
    "\n",
    "from PyQt5.QtCore import *\n",
    "from PyQt5.QtGui import *\n",
    "from PyQt5.QtWidgets import *\n",
    "\n",
    "import pickle"
   ]
  },
  {
   "cell_type": "code",
   "execution_count": 4,
   "id": "468efc85",
   "metadata": {},
   "outputs": [
    {
     "name": "stdout",
     "output_type": "stream",
     "text": [
      "Token: 7918495550:AAG1pso7-lIj1jEeTuzL-bVf0nGK6mT8SeE\n"
     ]
    }
   ],
   "source": [
    "token = pickle.load(open(f\"{path_depth}resource/variable/_token.pkl\", \"rb\"))\n",
    "print(f\"Token: {token}\")"
   ]
  },
  {
   "cell_type": "code",
   "execution_count": 5,
   "id": "5e08afba",
   "metadata": {},
   "outputs": [
    {
     "name": "stdout",
     "output_type": "stream",
     "text": [
      "Chat ID: ['6410512787']\n"
     ]
    }
   ],
   "source": [
    "# chat_id = [\"fasdf\", \"asdfsadf\"]\n",
    "# pickle.dump(chat_id, open(f\"{path_depth}resource/variable/_chat_id.pkl\", \"wb\"))\n",
    "\n",
    "chat_id = pickle.load(open(f\"{path_depth}resource/variable/_chat_id.pkl\", \"rb\"))\n",
    "print(f\"Chat ID: {chat_id}\")"
   ]
  },
  {
   "cell_type": "code",
   "execution_count": 6,
   "id": "d98e2da4",
   "metadata": {},
   "outputs": [
    {
     "name": "stderr",
     "output_type": "stream",
     "text": [
      "C:\\Users\\muysengly\\AppData\\Local\\Temp\\ipykernel_24288\\41459736.py:1: DeprecationWarning: sipPyTypeDict() is deprecated, the extension module should use sipPyTypeDictRef() instead\n",
      "  class Window(Ui_MainWindow, QMainWindow):\n"
     ]
    }
   ],
   "source": [
    "class Window(Ui_MainWindow, QMainWindow):\n",
    "    def __init__(self):\n",
    "        super().__init__()\n",
    "        self.setupUi(self)\n",
    "        self.setWindowFlags(self.windowFlags() | Qt.WindowStaysOnTopHint)\n",
    "        self.setWindowIcon(QIcon(f\"{path_depth}resource/asset/itc_logo.png\"))\n",
    "        self.setWindowTitle(\"Template Form\")\n",
    "\n",
    "        self.listView_chat_id.setModel(QStringListModel(chat_id))\n",
    "\n",
    "        self.show()"
   ]
  },
  {
   "cell_type": "code",
   "execution_count": 7,
   "id": "c2bbff43",
   "metadata": {},
   "outputs": [],
   "source": [
    "app = QApplication([])\n",
    "win = Window()\n",
    "\n",
    "\n",
    "win.pushButton_back.setIcon(QIcon(f\"{path_depth}resource/asset/previous.png\"))\n",
    "\n",
    "win.pushButton_delete.setText(\"\")\n",
    "win.pushButton_delete.setIcon(QIcon(f\"{path_depth}resource/asset/delete.png\"))\n",
    "\n",
    "win.pushButton_add.setIcon(QIcon(f\"{path_depth}resource/asset/add.png\"))\n",
    "\n",
    "\n",
    "def on_lineEdit_token_textChanged(text):\n",
    "    global token\n",
    "    token = text\n",
    "    pickle.dump(token, open(f\"{path_depth}resource/variable/_token.pkl\", \"wb\"))\n",
    "    print(f\"Token: {token}\")\n",
    "\n",
    "\n",
    "win.lineEdit_token.textChanged.connect(on_lineEdit_token_textChanged)\n",
    "\n",
    "\n",
    "def on_pushButton_add_chat_id_clicked():\n",
    "    if win.lineEdit_add_id.text() and win.lineEdit_add_id.text().strip():\n",
    "        global chat_id\n",
    "        new_chat_id = win.lineEdit_add_id.text().strip()\n",
    "        chat_id.append(new_chat_id)\n",
    "        win.listView_chat_id.model().setStringList(chat_id)\n",
    "        pickle.dump(chat_id, open(f\"{path_depth}resource/variable/_chat_id.pkl\", \"wb\"))\n",
    "        print(f\"Chat ID: {chat_id}\")\n",
    "        win.lineEdit_add_id.clear()\n",
    "\n",
    "\n",
    "win.pushButton_add.clicked.connect(on_pushButton_add_chat_id_clicked)\n",
    "win.lineEdit_add_id.returnPressed.connect(on_pushButton_add_chat_id_clicked)\n",
    "\n",
    "\n",
    "def on_pushButton_delete_chat_id_clicked():\n",
    "    if win.listView_chat_id.currentIndex().isValid():\n",
    "        global chat_id\n",
    "        index = win.listView_chat_id.currentIndex().row()\n",
    "        chat_id.pop(index)\n",
    "        win.listView_chat_id.model().setStringList(chat_id)\n",
    "        pickle.dump(chat_id, open(f\"{path_depth}resource/variable/_chat_id.pkl\", \"wb\"))\n",
    "        print(f\"Chat ID: {chat_id}\")\n",
    "\n",
    "\n",
    "win.pushButton_delete.clicked.connect(on_pushButton_delete_chat_id_clicked)\n",
    "\n",
    "\n",
    "def on_chat_id_data_changed():\n",
    "    global chat_id\n",
    "    chat_id = win.listView_chat_id.model().stringList()\n",
    "    pickle.dump(chat_id, open(f\"{path_depth}resource/variable/_chat_id.pkl\", \"wb\"))\n",
    "    print(f\"Chat ID: {chat_id}\")\n",
    "\n",
    "\n",
    "win.listView_chat_id.model().dataChanged.connect(on_chat_id_data_changed)\n",
    "\n",
    "\n",
    "def on_button_back_clicked():\n",
    "    win.close()\n",
    "\n",
    "\n",
    "win.pushButton_back.clicked.connect(on_button_back_clicked)\n",
    "\n",
    "app.exec_()\n",
    "app = None"
   ]
  }
 ],
 "metadata": {
  "kernelspec": {
   "display_name": "Python 3",
   "language": "python",
   "name": "python3"
  },
  "language_info": {
   "codemirror_mode": {
    "name": "ipython",
    "version": 3
   },
   "file_extension": ".py",
   "mimetype": "text/x-python",
   "name": "python",
   "nbconvert_exporter": "python",
   "pygments_lexer": "ipython3",
   "version": "3.11.9"
  }
 },
 "nbformat": 4,
 "nbformat_minor": 5
}
