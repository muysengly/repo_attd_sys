{
 "cells": [
  {
   "cell_type": "code",
   "execution_count": 2,
   "id": "b5de69cc",
   "metadata": {},
   "outputs": [
    {
     "name": "stdout",
     "output_type": "stream",
     "text": [
      "[6410512787]\n",
      "['muysengly']\n"
     ]
    }
   ],
   "source": [
    "# get all chat ids and usernames\n",
    "import requests\n",
    "\n",
    "\n",
    "BOT_TOKEN = \"7918495550:AAG1pso7-lIj1jEeTuzL-bVf0nGK6mT8SeE\"\n",
    "\n",
    "url = f\"https://api.telegram.org/bot{BOT_TOKEN}/getUpdates\"\n",
    "response = requests.get(url)\n",
    "data = response.json()\n",
    "chat_ids = []\n",
    "usernames = []\n",
    "for message in data['result']:\n",
    "\t\tchat_id = message['message']['chat']['id']\n",
    "\t\tusername = message['message']['chat']['username']\n",
    "\t\tchat_ids.append(chat_id)\n",
    "\t\tusernames.append(username)\n",
    "print(chat_ids)\n",
    "print(usernames)"
   ]
  },
  {
   "cell_type": "code",
   "execution_count": null,
   "id": "e42464c6",
   "metadata": {},
   "outputs": [
    {
     "name": "stdout",
     "output_type": "stream",
     "text": [
      "{'ok': True, 'result': {'message_id': 10, 'from': {'id': 7918495550, 'is_bot': True, 'first_name': 'ITC-GTR-ATTENDANCE', 'username': 'itc_gtr_attendance_bot'}, 'chat': {'id': 6410512787, 'first_name': 'សេងលី / SengLy', 'username': 'muysengly', 'type': 'private'}, 'date': 1753246472, 'text': 'Hello, There! \\nI am a bot.'}}\n"
     ]
    }
   ],
   "source": [
    "import requests\n",
    "\n",
    "BOT_TOKEN = \"7918495550:AAG1pso7-lIj1jEeTuzL-bVf0nGK6mT8SeE\"\n",
    "# to get your id: @getidsbot\n",
    "CHAT_ID = \"6410512787\"\n",
    "\n",
    "message = \"Hello, There! \\nI am a bot.\"\n",
    "url = f\"https://api.telegram.org/bot{BOT_TOKEN}/sendMessage?chat_id={CHAT_ID}&text={message}\"\n",
    "response = requests.get(url)\n",
    "print(response.json())"
   ]
  }
 ],
 "metadata": {
  "kernelspec": {
   "display_name": "Python 3",
   "language": "python",
   "name": "python3"
  },
  "language_info": {
   "codemirror_mode": {
    "name": "ipython",
    "version": 3
   },
   "file_extension": ".py",
   "mimetype": "text/x-python",
   "name": "python",
   "nbconvert_exporter": "python",
   "pygments_lexer": "ipython3",
   "version": "3.11.9"
  }
 },
 "nbformat": 4,
 "nbformat_minor": 5
}
