{
 "cells": [
  {
   "cell_type": "code",
   "execution_count": 1,
   "id": "fb0bc378",
   "metadata": {},
   "outputs": [],
   "source": [
    "# TODO:\n",
    "# - make sure only on person is in the image\n",
    "# - make sure the face is big enough\n",
    "# -\n",
    "# -\n",
    "# -"
   ]
  },
  {
   "cell_type": "code",
   "execution_count": 2,
   "id": "a2c318ca",
   "metadata": {},
   "outputs": [],
   "source": [
    "import os\n",
    "import sys\n",
    "\n",
    "\n",
    "path_depth = \"../../../\"  # adjust the current working directory\n",
    "\n",
    "if \"__file__\" not in globals():  # check if running in Jupyter Notebook\n",
    "    os.system(\"jupyter nbconvert --to script Controller.ipynb --output Controller\")  # convert notebook to script\n",
    "    os.system(\"pyuic5 -x View.ui -o View.py\")  # convert UI file to Python script\n",
    "\n",
    "\n",
    "sys.path.append(os.path.abspath(os.path.join(path_depth, \"resource\", \"utility\")))\n",
    "\n",
    "\n",
    "if os.name == \"nt\":  # Windows NT: Windows New Technology\n",
    "    import ctypes\n",
    "\n",
    "    ctypes.windll.shell32.SetCurrentProcessExplicitAppUserModelID(\"my.app.id\")\n",
    "elif os.name == \"posix\":  # POSIX: Portable Operating System Interface\n",
    "    if \"darwin\" in os.sys.platform:\n",
    "        pass  # macOS system\n",
    "    else:\n",
    "        os.environ[\"DISPLAY\"] = \":0\"  # Set display\n",
    "        os.environ[\"QT_QPA_PLATFORM\"] = \"eglfs\"  # Set platform for Qt\n",
    "        # pass # Linux system\n",
    "else:\n",
    "    pass  # Other OS"
   ]
  },
  {
   "cell_type": "code",
   "execution_count": 3,
   "id": "5d8bd0d0",
   "metadata": {},
   "outputs": [],
   "source": [
    "from insightface.app import FaceAnalysis\n",
    "\n",
    "from View import Ui_MainWindow\n",
    "\n",
    "from PyQt5.QtCore import *\n",
    "from PyQt5.QtGui import *\n",
    "from PyQt5.QtWidgets import *\n",
    "\n",
    "\n",
    "import cv2\n",
    "import pickle\n",
    "import numpy as np"
   ]
  },
  {
   "cell_type": "code",
   "execution_count": 4,
   "id": "07b04781",
   "metadata": {},
   "outputs": [
    {
     "name": "stdout",
     "output_type": "stream",
     "text": [
      "Applied providers: ['CPUExecutionProvider'], with options: {'CPUExecutionProvider': {}}\n",
      "find model: c:\\Users\\muysengly\\Desktop\\repo_attendance_system_gtr\\resource\\view_controller\\take_photo_form/../../../resource/utility/models\\buffalo_sc\\det_500m.onnx detection [1, 3, '?', '?'] 127.5 128.0\n",
      "Applied providers: ['CPUExecutionProvider'], with options: {'CPUExecutionProvider': {}}\n",
      "find model: c:\\Users\\muysengly\\Desktop\\repo_attendance_system_gtr\\resource\\view_controller\\take_photo_form/../../../resource/utility/models\\buffalo_sc\\w600k_mbf.onnx recognition ['None', 3, 112, 112] 127.5 127.5\n",
      "set det-size: (320, 320)\n"
     ]
    }
   ],
   "source": [
    "fa = FaceAnalysis(name=\"buffalo_sc\", root=f\"{os.getcwd()}/{path_depth}resource/utility/\", providers=[\"CPUExecutionProvider\"])\n",
    "fa.prepare(ctx_id=-1, det_thresh=0.5, det_size=(320, 320))"
   ]
  },
  {
   "cell_type": "code",
   "execution_count": 5,
   "id": "d98e2da4",
   "metadata": {},
   "outputs": [
    {
     "name": "stderr",
     "output_type": "stream",
     "text": [
      "C:\\Users\\muysengly\\AppData\\Local\\Temp\\ipykernel_14040\\3974638047.py:4: DeprecationWarning: sipPyTypeDict() is deprecated, the extension module should use sipPyTypeDictRef() instead\n",
      "  class Window(Ui_MainWindow, QMainWindow):\n"
     ]
    }
   ],
   "source": [
    "cap = cv2.VideoCapture(0)\n",
    "\n",
    "\n",
    "class Window(Ui_MainWindow, QMainWindow):\n",
    "    def __init__(self):\n",
    "        super().__init__()\n",
    "        self.setupUi(self)\n",
    "        self.setWindowFlags(self.windowFlags() | Qt.WindowStaysOnTopHint)\n",
    "        self.setWindowIcon(QIcon(f\"{path_depth}resource/asset/my_logo.png\"))\n",
    "        self.setWindowTitle(\"Take Photo Form\")\n",
    "\n",
    "        self.faces = []\n",
    "        self.SKIP_FRAMES = 10\n",
    "        self.frame_count = 0\n",
    "\n",
    "        self.timer = QTimer(self)\n",
    "        self.timer.timeout.connect(self.update)\n",
    "        self.timer.start(int(1000 / 30))  # 30 FPS\n",
    "\n",
    "        self.setWindowFlags(self.windowFlags() | Qt.WindowMaximizeButtonHint)\n",
    "        self.setMaximumSize(QWIDGETSIZE_MAX, QWIDGETSIZE_MAX)\n",
    "\n",
    "        self.show()\n",
    "\n",
    "    def paintEvent(self, e):\n",
    "        _, frame = cap.read()\n",
    "        frame = cv2.flip(frame, 1)\n",
    "\n",
    "        self.frame_count += 1\n",
    "        if self.frame_count % self.SKIP_FRAMES == 0:\n",
    "            self.frame_count = 0\n",
    "            self.faces = fa.get(cv2.cvtColor(frame, cv2.COLOR_BGR2RGB))\n",
    "\n",
    "        if len(self.faces) == 0:\n",
    "            self.pushButton_take_photo.setEnabled(False)\n",
    "            cv2.putText(img=frame, text=\"No face detected!\", org=(10, 25), fontFace=cv2.FONT_HERSHEY_SIMPLEX, fontScale=0.6, color=(0, 0, 255), thickness=2)\n",
    "\n",
    "        elif len(self.faces) == 1:\n",
    "            # for face in self.faces:\n",
    "            face = self.faces[0]\n",
    "            box = face.bbox.astype(int)\n",
    "            if (box[2] - box[0]) > 160 or (box[3] - box[1]) > 160:\n",
    "                self.pushButton_take_photo.setEnabled(True)\n",
    "                cv2.rectangle(img=frame, pt1=(box[0], box[1]), pt2=(box[2], box[3]), color=(0, 255, 0), thickness=2)\n",
    "                cv2.putText(img=frame, text=\"Face detected!\", org=(10, 25), fontFace=cv2.FONT_HERSHEY_SIMPLEX, fontScale=0.6, color=(0, 255, 0), thickness=2)\n",
    "            else:\n",
    "                self.pushButton_take_photo.setEnabled(False)\n",
    "                cv2.rectangle(img=frame, pt1=(box[0], box[1]), pt2=(box[2], box[3]), color=(0, 0, 255), thickness=2)\n",
    "                cv2.putText(img=frame, text=\"Face too small!\", org=(10, 25), fontFace=cv2.FONT_HERSHEY_SIMPLEX, fontScale=0.6, color=(0, 0, 255), thickness=2)\n",
    "\n",
    "        else:\n",
    "            self.pushButton_take_photo.setEnabled(False)\n",
    "            cv2.putText(img=frame, text=\"Too many faces detected!\", org=(10, 25), fontFace=cv2.FONT_HERSHEY_SIMPLEX, fontScale=0.6, color=(0, 0, 255), thickness=2)\n",
    "            for face in self.faces:\n",
    "                box = face.bbox.astype(int)\n",
    "                cv2.rectangle(img=frame, pt1=(box[0], box[1]), pt2=(box[2], box[3]), color=(0, 0, 255), thickness=2)\n",
    "\n",
    "        _image = cv2.resize(frame, (self.label_camera.width(), self.label_camera.height()))\n",
    "        _image = cv2.cvtColor(_image, cv2.COLOR_BGR2RGB)\n",
    "        q_image = QImage(_image.data, _image.shape[1], _image.shape[0], _image.strides[0], QImage.Format_RGB888)\n",
    "        q_pixmap = QPixmap.fromImage(q_image)\n",
    "        self.label_camera.setPixmap(q_pixmap)"
   ]
  },
  {
   "cell_type": "code",
   "execution_count": 6,
   "id": "c2bbff43",
   "metadata": {},
   "outputs": [],
   "source": [
    "app = QApplication([])\n",
    "win = Window()\n",
    "\n",
    "win.pushButton_back.setIcon(QIcon(f\"{path_depth}resource/asset/previous.png\"))\n",
    "win.pushButton_take_photo.setIcon(QIcon(f\"{path_depth}resource/asset/photo-camera.png\"))\n",
    "\n",
    "\n",
    "def take_photo():\n",
    "    _, frame = cap.read()\n",
    "    frame = cv2.flip(frame, 1)\n",
    "\n",
    "    image = np.array(frame)\n",
    "    pickle.dump(image, open(path_depth + \"resource/variable/_photo.pkl\", \"wb\"))\n",
    "\n",
    "    win.close()\n",
    "\n",
    "\n",
    "win.pushButton_take_photo.clicked.connect(take_photo)\n",
    "\n",
    "\n",
    "def on_button_back_clicked():\n",
    "    win.close()\n",
    "\n",
    "\n",
    "win.pushButton_back.clicked.connect(on_button_back_clicked)\n",
    "\n",
    "\n",
    "app.exec_()\n",
    "app = None\n",
    "cap.release()"
   ]
  }
 ],
 "metadata": {
  "kernelspec": {
   "display_name": "Python 3",
   "language": "python",
   "name": "python3"
  },
  "language_info": {
   "codemirror_mode": {
    "name": "ipython",
    "version": 3
   },
   "file_extension": ".py",
   "mimetype": "text/x-python",
   "name": "python",
   "nbconvert_exporter": "python",
   "pygments_lexer": "ipython3",
   "version": "3.11.9"
  }
 },
 "nbformat": 4,
 "nbformat_minor": 5
}
