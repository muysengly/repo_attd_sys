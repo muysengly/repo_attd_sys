{
 "cells": [
  {
   "cell_type": "code",
   "execution_count": 1,
   "id": "fb0bc378",
   "metadata": {},
   "outputs": [],
   "source": [
    "# TODO: \n",
    "# - \n",
    "# - \n",
    "# - \n",
    "# - \n",
    "# - "
   ]
  },
  {
   "cell_type": "code",
   "execution_count": 2,
   "id": "a2c318ca",
   "metadata": {},
   "outputs": [],
   "source": [
    "import os\n",
    "import sys\n",
    "\n",
    "\n",
    "path_depth = \"../../../\"  # adjust the current working directory\n",
    "\n",
    "if \"__file__\" not in globals():  # check if running in Jupyter Notebook\n",
    "    os.system(\"jupyter nbconvert --to script Controller.ipynb --output Controller\")  # convert notebook to script\n",
    "    os.system(\"pyuic5 -x View.ui -o View.py\")  # convert UI file to Python script\n",
    "\n",
    "\n",
    "sys.path.append(os.path.abspath(os.path.join(path_depth, \"resource\", \"utility\")))\n",
    "\n",
    "if os.name == \"nt\":\n",
    "    import ctypes\n",
    "\n",
    "    ctypes.windll.shell32.SetCurrentProcessExplicitAppUserModelID(\"my.app.id\")\n",
    "elif os.name == \"posix\":\n",
    "    if \"darwin\" in os.sys.platform:\n",
    "        # print(\"Running on macOS\")\n",
    "        pass\n",
    "    else:\n",
    "        # print(\"Running on Linux or Unix-like OS\")\n",
    "        pass\n",
    "else:\n",
    "    # print(f\"Unknown OS: {os.name}\")\n",
    "    pass\n",
    "\n",
    "\n",
    "os.environ[\"QT_ENABLE_HIGHDPI_SCALING\"] = \"1\"\n",
    "os.environ[\"QT_AUTO_SCREEN_SCALE_FACTOR\"] = \"1\"\n",
    "os.environ[\"QT_SCALE_FACTOR\"] = \"1\"\n",
    "os.environ[\"NO_ALBUMENTATIONS_UPDATE\"] = \"1\""
   ]
  },
  {
   "cell_type": "code",
   "execution_count": 3,
   "id": "5d8bd0d0",
   "metadata": {},
   "outputs": [],
   "source": [
    "from View import Ui_MainWindow\n",
    "\n",
    "from PyQt5.QtCore import *\n",
    "from PyQt5.QtGui import *\n",
    "from PyQt5.QtWidgets import *"
   ]
  },
  {
   "cell_type": "code",
   "execution_count": 4,
   "id": "d98e2da4",
   "metadata": {},
   "outputs": [
    {
     "name": "stderr",
     "output_type": "stream",
     "text": [
      "C:\\Users\\muysengly\\AppData\\Local\\Temp\\ipykernel_22196\\4196854485.py:1: DeprecationWarning: sipPyTypeDict() is deprecated, the extension module should use sipPyTypeDictRef() instead\n",
      "  class Window(Ui_MainWindow, QMainWindow):\n"
     ]
    }
   ],
   "source": [
    "class Window(Ui_MainWindow, QMainWindow):\n",
    "    def __init__(self):\n",
    "        super().__init__()\n",
    "        self.setupUi(self)\n",
    "        self.setWindowFlags(self.windowFlags() | Qt.WindowStaysOnTopHint)\n",
    "        self.setWindowIcon(QIcon(f\"{path_depth}resource/asset/itc_logo.png\"))\n",
    "        self.setWindowTitle(\"Template Form\")\n",
    "\n",
    "        self.show()"
   ]
  },
  {
   "cell_type": "code",
   "execution_count": 5,
   "id": "c2bbff43",
   "metadata": {},
   "outputs": [],
   "source": [
    "app = QApplication([])\n",
    "win = Window()\n",
    "\n",
    "\n",
    "app.exec_()\n",
    "app = None"
   ]
  }
 ],
 "metadata": {
  "kernelspec": {
   "display_name": "Python 3",
   "language": "python",
   "name": "python3"
  },
  "language_info": {
   "codemirror_mode": {
    "name": "ipython",
    "version": 3
   },
   "file_extension": ".py",
   "mimetype": "text/x-python",
   "name": "python",
   "nbconvert_exporter": "python",
   "pygments_lexer": "ipython3",
   "version": "3.11.9"
  }
 },
 "nbformat": 4,
 "nbformat_minor": 5
}
